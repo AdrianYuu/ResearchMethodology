{
 "cells": [
  {
   "cell_type": "code",
   "execution_count": 1,
   "metadata": {},
   "outputs": [],
   "source": [
    "import pandas as pd\n",
    "import pickle\n",
    "import string\n",
    "import random\n",
    "from nltk.tokenize import word_tokenize\n",
    "from nltk.corpus import stopwords\n",
    "from nltk.stem import WordNetLemmatizer\n",
    "from nltk.tag import pos_tag\n",
    "from sklearn.feature_extraction.text import TfidfVectorizer\n",
    "from sklearn.model_selection import train_test_split\n",
    "from sklearn.ensemble import RandomForestClassifier\n",
    "from sklearn.metrics import accuracy_score, classification_report, precision_score, recall_score, f1_score\n",
    "from sklearn.svm import SVC"
   ]
  },
  {
   "cell_type": "code",
   "execution_count": 2,
   "metadata": {},
   "outputs": [],
   "source": [
    "eng_stopwords = stopwords.words('english')\n",
    "punctuation_list = string.punctuation\n",
    "wnl = WordNetLemmatizer()\n",
    "\n",
    "def remove_stopwords(w_list):\n",
    "     return [word for word in w_list if word not in eng_stopwords]\n",
    "\n",
    "def remove_punctuation(w_list):\n",
    "     return [word for word in w_list if word not in punctuation_list]\n",
    "\n",
    "def remove_number(w_list):\n",
    "     return [word for word in w_list if word.isalpha()]\n",
    "\n",
    "def get_pos_tag(tag):\n",
    "     if tag == 'jj':\n",
    "          return 'a'\n",
    "     elif tag in ['nn', 'rb', 'vb']:\n",
    "          return tag[0]\n",
    "     else:\n",
    "          return None\n",
    "\n",
    "def lemmatizing_words(w_list):\n",
    "     lemmatized = []\n",
    "     tagging = pos_tag(w_list)\n",
    "     for word, tag in tagging:\n",
    "          label = get_pos_tag(tag)\n",
    "          if label != None:\n",
    "               lemmatized.append(wnl.lemmatize(word, label))\n",
    "          else:\n",
    "               lemmatized.append(wnl.lemmatize(word))\n",
    "     return lemmatized"
   ]
  },
  {
   "cell_type": "code",
   "execution_count": 3,
   "metadata": {},
   "outputs": [],
   "source": [
    "def preprocess_text(text):\n",
    "    if not isinstance(text, str):\n",
    "        return \"\"\n",
    "    words = word_tokenize(text)\n",
    "    words = remove_stopwords(words)\n",
    "    words = remove_punctuation(words)\n",
    "    words = remove_number(words)\n",
    "    words = lemmatizing_words(words)\n",
    "    return ' '.join(words)"
   ]
  },
  {
   "cell_type": "code",
   "execution_count": 4,
   "metadata": {},
   "outputs": [],
   "source": [
    "def training_model():\n",
    "     dataset = pd.read_csv('./dataset_rm.csv')\n",
    "     dataset = dataset.dropna(subset=['tweet', 'label'])\n",
    "\n",
    "     comments_list = dataset['tweet'].apply(preprocess_text).tolist()\n",
    "     label_list = dataset['label'].tolist()\n",
    "\n",
    "     vectorizer = TfidfVectorizer()\n",
    "     word_tfidf = vectorizer.fit_transform(comments_list)\n",
    "\n",
    "     X_train, X_test, y_train, y_test = train_test_split(word_tfidf, label_list, test_size=0.2, random_state=42)\n",
    "\n",
    "     svm = SVC(kernel='linear', random_state=42)\n",
    "     svm.fit(X_train, y_train)\n",
    "\n",
    "     y_pred = svm.predict(X_test)\n",
    "\n",
    "     accuracy = accuracy_score(y_test, y_pred)\n",
    "     report = classification_report(y_test, y_pred)\n",
    "     precision = precision_score(y_test, y_pred, pos_label=1)\n",
    "     recall = recall_score(y_test, y_pred, pos_label=1)\n",
    "     f1 = f1_score(y_test, y_pred, pos_label=1)\n",
    "\n",
    "     print(\"Accuracy:\", accuracy)\n",
    "     print(\"Classification Report:\\n\", report)\n",
    "     print(f'Precision: {precision:.2f}')\n",
    "     print(f'Recall: {recall:.2f}')\n",
    "     print(f'F1 Score: {f1:.2f}')\n",
    "\n",
    "     file = open('svm.pickle','wb')\n",
    "     pickle.dump(svm, file)\n",
    "     file.close()\n",
    "\n",
    "     return svm, vectorizer"
   ]
  },
  {
   "cell_type": "code",
   "execution_count": 5,
   "metadata": {},
   "outputs": [
    {
     "name": "stdout",
     "output_type": "stream",
     "text": [
      "Accuracy: 0.7358888888888889\n",
      "Classification Report:\n",
      "               precision    recall  f1-score   support\n",
      "\n",
      "           0       0.69      0.68      0.69      7660\n",
      "           1       0.77      0.78      0.77     10340\n",
      "\n",
      "    accuracy                           0.74     18000\n",
      "   macro avg       0.73      0.73      0.73     18000\n",
      "weighted avg       0.74      0.74      0.74     18000\n",
      "\n",
      "Precision: 0.77\n",
      "Recall: 0.78\n",
      "F1 Score: 0.77\n"
     ]
    }
   ],
   "source": [
    "model, vectorizer = training_model()"
   ]
  },
  {
   "cell_type": "code",
   "execution_count": 6,
   "metadata": {},
   "outputs": [],
   "source": [
    "def classify_comment(comment, model, vectorizer):\n",
    "    processed_comment = preprocess_text(comment)\n",
    "    comment_tfidf = vectorizer.transform([processed_comment])\n",
    "    prediction = model.predict(comment_tfidf)\n",
    "    print(prediction)\n",
    "    return prediction[0]"
   ]
  },
  {
   "cell_type": "code",
   "execution_count": 7,
   "metadata": {},
   "outputs": [
    {
     "name": "stdout",
     "output_type": "stream",
     "text": [
      "[1]\n",
      "The comment 'your face is very pretty' is classified as: 1\n"
     ]
    }
   ],
   "source": [
    "new_comment = \"your face is very pretty\"\n",
    "\n",
    "result = classify_comment(new_comment, model, vectorizer)\n",
    "\n",
    "print(f\"The comment '{new_comment}' is classified as: {result}\")"
   ]
  }
 ],
 "metadata": {
  "kernelspec": {
   "display_name": "Python 3",
   "language": "python",
   "name": "python3"
  },
  "language_info": {
   "codemirror_mode": {
    "name": "ipython",
    "version": 3
   },
   "file_extension": ".py",
   "mimetype": "text/x-python",
   "name": "python",
   "nbconvert_exporter": "python",
   "pygments_lexer": "ipython3",
   "version": "3.10.11"
  }
 },
 "nbformat": 4,
 "nbformat_minor": 2
}
