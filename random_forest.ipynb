{
 "cells": [
  {
   "cell_type": "code",
   "execution_count": 18,
   "metadata": {},
   "outputs": [],
   "source": [
    "import pandas as pd\r\n",
    "import pickle\r\n",
    "import string\r\n",
    "import random\r\n",
    "from nltk.tokenize import word_tokenize\r\n",
    "from nltk.corpus import stopwords\r\n",
    "from nltk.stem import WordNetLemmatizer\r\n",
    "from nltk.tag import pos_tag\r\n",
    "from sklearn.feature_extraction.text import TfidfVectorizer\r\n",
    "from sklearn.model_selection import train_test_split\r\n",
    "from sklearn.ensemble import RandomForestClassifier\r\n",
    "from sklearn.metrics import accuracy_score, classification_report, precision_score, recall_score, f1_score"
   ]
  },
  {
   "cell_type": "code",
   "execution_count": 19,
   "metadata": {},
   "outputs": [],
   "source": [
    "eng_stopwords = stopwords.words('english')\r\n",
    "punctuation_list = string.punctuation\r\n",
    "wnl = WordNetLemmatizer()\r\n",
    "\r\n",
    "def remove_stopwords(w_list):\r\n",
    "     return [word for word in w_list if word not in eng_stopwords]\r\n",
    "\r\n",
    "def remove_punctuation(w_list):\r\n",
    "     return [word for word in w_list if word not in punctuation_list]\r\n",
    "\r\n",
    "def remove_number(w_list):\r\n",
    "     return [word for word in w_list if word.isalpha()]\r\n",
    "\r\n",
    "def get_pos_tag(tag):\r\n",
    "     if tag == 'jj':\r\n",
    "          return 'a'\r\n",
    "     elif tag in ['nn', 'rb', 'vb']:\r\n",
    "          return tag[0]\r\n",
    "     else:\r\n",
    "          return None\r\n",
    "\r\n",
    "def lemmatizing_words(w_list):\r\n",
    "     lemmatized = []\r\n",
    "     tagging = pos_tag(w_list)\r\n",
    "     for word, tag in tagging:\r\n",
    "          label = get_pos_tag(tag)\r\n",
    "          if label != None:\r\n",
    "               lemmatized.append(wnl.lemmatize(word, label))\r\n",
    "          else:\r\n",
    "               lemmatized.append(wnl.lemmatize(word))\r\n",
    "     return lemmatized"
   ]
  },
  {
   "cell_type": "code",
   "execution_count": 20,
   "metadata": {},
   "outputs": [],
   "source": [
    "def preprocess_text(text):\r\n",
    "    if not isinstance(text, str):\r\n",
    "        return \"\"\r\n",
    "    words = word_tokenize(text)\r\n",
    "    words = remove_stopwords(words)\r\n",
    "    words = remove_punctuation(words)\r\n",
    "    words = remove_number(words)\r\n",
    "    words = lemmatizing_words(words)\r\n",
    "    return ' '.join(words)"
   ]
  },
  {
   "cell_type": "code",
   "execution_count": 21,
   "metadata": {},
   "outputs": [],
   "source": [
    "def training_model():\r\n",
    "     dataset = pd.read_csv('./dataset_rm.csv')\r\n",
    "     dataset = dataset.dropna(subset=['tweet', 'label'])\r\n",
    "\r\n",
    "     comments_list = dataset['tweet'].apply(preprocess_text).tolist()\r\n",
    "     label_list = dataset['label'].tolist()\r\n",
    "\r\n",
    "     vectorizer = TfidfVectorizer()\r\n",
    "     word_tfidf = vectorizer.fit_transform(comments_list)\r\n",
    "\r\n",
    "     X_train, X_test, y_train, y_test = train_test_split(word_tfidf, label_list, test_size=0.2, random_state=42)\r\n",
    "     random_forest = RandomForestClassifier(n_estimators=100, random_state=42)\r\n",
    "     random_forest.fit(X_train, y_train)\r\n",
    "\r\n",
    "     y_pred = random_forest.predict(X_test)\r\n",
    "\r\n",
    "     accuracy = accuracy_score(y_test, y_pred)\r\n",
    "     report = classification_report(y_test, y_pred)\r\n",
    "     precision = precision_score(y_test, y_pred, pos_label=1)\r\n",
    "     recall = recall_score(y_test, y_pred, pos_label=1)\r\n",
    "     f1 = f1_score(y_test, y_pred, pos_label=1)\r\n",
    "\r\n",
    "     print(\"Accuracy:\", accuracy)\r\n",
    "     print(\"Classification Report:\\n\", report)\r\n",
    "     print(f'Precision: {precision:.2f}')\r\n",
    "     print(f'Recall: {recall:.2f}')\r\n",
    "     print(f'F1 Score: {f1:.2f}')\r\n",
    "\r\n",
    "     file = open('random_forest.pickle','wb')\r\n",
    "     pickle.dump(random_forest, file)\r\n",
    "     file.close()\r\n",
    "\r\n",
    "     file = open('tfidf_random_forest.pickle','wb')\r\n",
    "     pickle.dump(vectorizer, file)\r\n",
    "     file.close()\r\n",
    "\r\n",
    "     return random_forest, vectorizer\r\n",
    "     "
   ]
  },
  {
   "cell_type": "code",
   "execution_count": 22,
   "metadata": {},
   "outputs": [
    {
     "name": "stdout",
     "output_type": "stream",
     "text": [
      "Accuracy: 0.6\n",
      "Classification Report:\n",
      "               precision    recall  f1-score   support\n",
      "\n",
      "           0       0.00      0.00      0.00         8\n",
      "           1       0.60      1.00      0.75        12\n",
      "\n",
      "    accuracy                           0.60        20\n",
      "   macro avg       0.30      0.50      0.37        20\n",
      "weighted avg       0.36      0.60      0.45        20\n",
      "\n",
      "Precision: 0.60\n",
      "Recall: 1.00\n",
      "F1 Score: 0.75\n"
     ]
    },
    {
     "name": "stderr",
     "output_type": "stream",
     "text": [
      "C:\\Users\\Daniel\\AppData\\Local\\Programs\\Python\\Python37\\lib\\site-packages\\sklearn\\metrics\\_classification.py:1318: UndefinedMetricWarning: Precision and F-score are ill-defined and being set to 0.0 in labels with no predicted samples. Use `zero_division` parameter to control this behavior.\n",
      "  _warn_prf(average, modifier, msg_start, len(result))\n",
      "C:\\Users\\Daniel\\AppData\\Local\\Programs\\Python\\Python37\\lib\\site-packages\\sklearn\\metrics\\_classification.py:1318: UndefinedMetricWarning: Precision and F-score are ill-defined and being set to 0.0 in labels with no predicted samples. Use `zero_division` parameter to control this behavior.\n",
      "  _warn_prf(average, modifier, msg_start, len(result))\n",
      "C:\\Users\\Daniel\\AppData\\Local\\Programs\\Python\\Python37\\lib\\site-packages\\sklearn\\metrics\\_classification.py:1318: UndefinedMetricWarning: Precision and F-score are ill-defined and being set to 0.0 in labels with no predicted samples. Use `zero_division` parameter to control this behavior.\n",
      "  _warn_prf(average, modifier, msg_start, len(result))\n"
     ]
    }
   ],
   "source": [
    "model, vectorizer = training_model()"
   ]
  },
  {
   "cell_type": "code",
   "execution_count": 23,
   "metadata": {},
   "outputs": [],
   "source": [
    "def classify_comment(comment, model, vectorizer):\r\n",
    "    processed_comment = preprocess_text(comment)\r\n",
    "    comment_tfidf = vectorizer.transform([processed_comment])\r\n",
    "    prediction = model.predict(comment_tfidf)\r\n",
    "    print(prediction)\r\n",
    "    return prediction[0]"
   ]
  },
  {
   "cell_type": "code",
   "execution_count": 24,
   "metadata": {},
   "outputs": [
    {
     "name": "stdout",
     "output_type": "stream",
     "text": [
      "[1]\n",
      "The comment 'your face is very pretty' is classified as: 1\n"
     ]
    }
   ],
   "source": [
    "new_comment = \"your face is very pretty\"\r\n",
    "\r\n",
    "result = classify_comment(new_comment, model, vectorizer)\r\n",
    "\r\n",
    "print(f\"The comment '{new_comment}' is classified as: {result}\")"
   ]
  }
 ],
 "metadata": {
  "interpreter": {
   "hash": "16eb897c26cdfcf18817bc60a8e0737e3939ff1e8491198c807979170104e811"
  },
  "kernelspec": {
   "display_name": "Python 3.7.6 64-bit",
   "name": "python3"
  },
  "language_info": {
   "codemirror_mode": {
    "name": "ipython",
    "version": 3
   },
   "file_extension": ".py",
   "mimetype": "text/x-python",
   "name": "python",
   "nbconvert_exporter": "python",
   "pygments_lexer": "ipython3",
   "version": "3.7.6"
  },
  "orig_nbformat": 4
 },
 "nbformat": 4,
 "nbformat_minor": 2
}