{
 "cells": [
  {
   "cell_type": "code",
   "execution_count": 35,
   "metadata": {},
   "outputs": [],
   "source": [
    "import pandas as pd\r\n",
    "import pickle\r\n",
    "import string\r\n",
    "import random\r\n",
    "from nltk.tokenize import word_tokenize\r\n",
    "from nltk.corpus import stopwords\r\n",
    "from nltk.stem import WordNetLemmatizer\r\n",
    "from nltk.tag import pos_tag\r\n",
    "from sklearn.feature_extraction.text import TfidfVectorizer\r\n",
    "from sklearn.model_selection import train_test_split\r\n",
    "from sklearn.ensemble import RandomForestClassifier\r\n",
    "from sklearn.metrics import accuracy_score, classification_report"
   ]
  },
  {
   "cell_type": "code",
   "execution_count": 36,
   "metadata": {},
   "outputs": [],
   "source": [
    "eng_stopwords = stopwords.words('english')\r\n",
    "punctuation_list = string.punctuation\r\n",
    "wnl = WordNetLemmatizer()\r\n",
    "\r\n",
    "def remove_stopwords(w_list):\r\n",
    "     return [word for word in w_list if word not in eng_stopwords]\r\n",
    "\r\n",
    "def remove_punctuation(w_list):\r\n",
    "     return [word for word in w_list if word not in punctuation_list]\r\n",
    "\r\n",
    "def remove_number(w_list):\r\n",
    "     return [word for word in w_list if word.isalpha()]\r\n",
    "\r\n",
    "def get_pos_tag(tag):\r\n",
    "     if tag == 'jj':\r\n",
    "          return 'a'\r\n",
    "     elif tag in ['nn', 'rb', 'vb']:\r\n",
    "          return tag[0]\r\n",
    "     else:\r\n",
    "          return None\r\n",
    "\r\n",
    "def lemmatizing_words(w_list):\r\n",
    "     lemmatized = []\r\n",
    "     tagging = pos_tag(w_list)\r\n",
    "     for word, tag in tagging:\r\n",
    "          label = get_pos_tag(tag)\r\n",
    "          if label != None:\r\n",
    "               lemmatized.append(wnl.lemmatize(word, label))\r\n",
    "          else:\r\n",
    "               lemmatized.append(wnl.lemmatize(word))\r\n",
    "     return lemmatized"
   ]
  },
  {
   "cell_type": "code",
   "execution_count": 37,
   "metadata": {},
   "outputs": [],
   "source": [
    "def preprocess_text(text):\r\n",
    "    words = word_tokenize(text)\r\n",
    "    words = remove_stopwords(words)\r\n",
    "    words = remove_punctuation(words)\r\n",
    "    words = remove_number(words)\r\n",
    "    words = lemmatizing_words(words)\r\n",
    "    return ' '.join(words)"
   ]
  },
  {
   "cell_type": "code",
   "execution_count": 38,
   "metadata": {},
   "outputs": [],
   "source": [
    "def training_model():\r\n",
    "     dataset = pd.read_csv('./Twitter_Data.csv').sample(n=1000)\r\n",
    "\r\n",
    "     comments_list = dataset['clean_text'].apply(preprocess_text).tolist()\r\n",
    "     label_list = dataset['category'].tolist()\r\n",
    "\r\n",
    "     vectorizer = TfidfVectorizer()\r\n",
    "     word_tfidf = vectorizer.fit_transform(comments_list)\r\n",
    "\r\n",
    "     X_train, X_test, y_train, y_test = train_test_split(word_tfidf, label_list, test_size=0.2, random_state=42)\r\n",
    "     random_forest = RandomForestClassifier(n_estimators=100, random_state=42)\r\n",
    "     random_forest.fit(X_train, y_train)\r\n",
    "\r\n",
    "     y_pred = random_forest.predict(X_test)\r\n",
    "\r\n",
    "     accuracy = accuracy_score(y_test, y_pred)\r\n",
    "     report = classification_report(y_test, y_pred)\r\n",
    "\r\n",
    "     print(\"Accuracy:\", accuracy)\r\n",
    "     print(\"Classification Report:\\n\", report)\r\n",
    "\r\n",
    "     file = open('random_forest.pickle','wb')\r\n",
    "     pickle.dump(random_forest, file)\r\n",
    "     file.close()\r\n",
    "\r\n",
    "     file = open('tfidf_random_forest.pickle','wb')\r\n",
    "     pickle.dump(vectorizer, file)\r\n",
    "     file.close()\r\n",
    "\r\n",
    "     return random_forest, vectorizer\r\n",
    "     "
   ]
  },
  {
   "cell_type": "code",
   "execution_count": 39,
   "metadata": {},
   "outputs": [
    {
     "name": "stdout",
     "output_type": "stream",
     "text": [
      "Accuracy: 0.535\n",
      "Classification Report:\n",
      "               precision    recall  f1-score   support\n",
      "\n",
      "        -1.0       0.50      0.06      0.11        47\n",
      "         0.0       0.57      0.79      0.66        71\n",
      "         1.0       0.51      0.59      0.54        82\n",
      "\n",
      "    accuracy                           0.54       200\n",
      "   macro avg       0.52      0.48      0.44       200\n",
      "weighted avg       0.53      0.54      0.48       200\n",
      "\n"
     ]
    }
   ],
   "source": [
    "# try:\r\n",
    "#      print(\"Load model...\")\r\n",
    "#      file = open('random_forest.pickle', 'rb')\r\n",
    "#      model = pickle.load(file)\r\n",
    "#      file.close()\r\n",
    "#      file = open('tfidf_random_forest.pickle', 'rb')\r\n",
    "#      vectorizer = pickle.load(file)\r\n",
    "#      file.close()\r\n",
    "# except FileNotFoundError:\r\n",
    "#      print(\"No Model...\")\r\n",
    "model, vectorizer = training_model()"
   ]
  }
 ],
 "metadata": {
  "interpreter": {
   "hash": "13427881f06f13311079f5221e5dd632fdf9146891f6da22d47a93dcb9272d3a"
  },
  "kernelspec": {
   "display_name": "Python 3.9.13 64-bit ('Daniel': virtualenv)",
   "name": "python3"
  },
  "language_info": {
   "codemirror_mode": {
    "name": "ipython",
    "version": 3
   },
   "file_extension": ".py",
   "mimetype": "text/x-python",
   "name": "python",
   "nbconvert_exporter": "python",
   "pygments_lexer": "ipython3",
   "version": "3.7.6"
  },
  "orig_nbformat": 4
 },
 "nbformat": 4,
 "nbformat_minor": 2
}