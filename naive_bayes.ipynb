{
 "cells": [
  {
   "cell_type": "code",
   "execution_count": 11,
   "metadata": {},
   "outputs": [],
   "source": [
    "import pandas as pd\r\n",
    "import string\r\n",
    "import random\r\n",
    "import pickle\r\n",
    "from nltk.tokenize import word_tokenize\r\n",
    "from nltk.corpus import stopwords\r\n",
    "from nltk.stem import WordNetLemmatizer\r\n",
    "from nltk.probability import FreqDist\r\n",
    "from nltk.classify import NaiveBayesClassifier, accuracy\r\n",
    "from nltk.tag import pos_tag"
   ]
  },
  {
   "cell_type": "code",
   "execution_count": 12,
   "metadata": {},
   "outputs": [],
   "source": [
    "eng_stopwords = stopwords.words('english')\r\n",
    "punctuation_list = string.punctuation\r\n",
    "wnl = WordNetLemmatizer()\r\n",
    "\r\n",
    "def remove_stopwords(w_list):\r\n",
    "     return [word for word in w_list if word not in eng_stopwords]\r\n",
    "\r\n",
    "def remove_punctuation(w_list):\r\n",
    "     return [word for word in w_list if word not in punctuation_list]\r\n",
    "\r\n",
    "def remove_number(w_list):\r\n",
    "     return [word for word in w_list if word.isalpha()]\r\n",
    "\r\n",
    "def get_pos_tag(tag):\r\n",
    "     if tag == 'jj':\r\n",
    "          return 'a'\r\n",
    "     elif tag in ['nn', 'rb', 'vb']:\r\n",
    "          return tag[0]\r\n",
    "     else:\r\n",
    "          return None\r\n",
    "\r\n",
    "def lemmatizing_words(w_list):\r\n",
    "     lemmatized = []\r\n",
    "     tagging = pos_tag(w_list)\r\n",
    "     for word, tag in tagging:\r\n",
    "          label = get_pos_tag(tag)\r\n",
    "          if label != None:\r\n",
    "               lemmatized.append(wnl.lemmatize(word, label))\r\n",
    "          else:\r\n",
    "               lemmatized.append(wnl.lemmatize(word))\r\n",
    "     return lemmatized\r\n"
   ]
  },
  {
   "cell_type": "code",
   "execution_count": 13,
   "metadata": {},
   "outputs": [],
   "source": [
    "def training_model():\r\n",
    "     dataset = pd.read_csv('./dataset_rm.csv')\r\n",
    "\r\n",
    "     word_list = []\r\n",
    "     comments_list = dataset['tweet'].to_list()\r\n",
    "     label_list = dataset['label'].to_list()\r\n",
    "\r\n",
    "     for sentence in comments_list:\r\n",
    "          words = word_tokenize(sentence)\r\n",
    "          for word in words:\r\n",
    "               word_list.append(word)\r\n",
    "     \r\n",
    "     word_list = remove_stopwords(word_list)\r\n",
    "     word_list = remove_punctuation(word_list)\r\n",
    "     word_list = remove_number(word_list)\r\n",
    "     word_list = lemmatizing_words(word_list)\r\n",
    "\r\n",
    "     labeled_data = list(zip(comments_list, label_list))\r\n",
    "     fd = FreqDist(word_list)\r\n",
    "     word_features = [word for word, _ in fd.most_common(n=5000)]\r\n",
    "     features_sets = []\r\n",
    "\r\n",
    "     for comment, label in labeled_data:\r\n",
    "          features = {}\r\n",
    "\r\n",
    "          check_list = word_tokenize(comment)\r\n",
    "          check_list = remove_stopwords(check_list)\r\n",
    "          check_list = remove_punctuation(check_list)\r\n",
    "          check_list = remove_number(check_list)\r\n",
    "          check_list = lemmatizing_words(check_list)\r\n",
    "\r\n",
    "          for word in word_features:\r\n",
    "               features[word] = (word in check_list)\r\n",
    "          features_sets.append((features, label))  \r\n",
    "     \r\n",
    "     random.shuffle(features_sets)\r\n",
    "     train_count = int(len(features_sets)*0.8)\r\n",
    "     train_dataset = features_sets[:train_count]\r\n",
    "     test_dataset = features_sets[train_count:]\r\n",
    "\r\n",
    "     classifier = NaiveBayesClassifier.train(train_dataset)\r\n",
    "     classifier.show_most_informative_features(n=10)\r\n",
    "     print(f\"Training Accuracy: {accuracy(classifier, test_dataset)*100}\")\r\n",
    "    \r\n",
    "     file = open('naive_bayes.pickle','wb')\r\n",
    "     pickle.dump(classifier, file)\r\n",
    "     file.close()\r\n",
    "    \r\n",
    "     return classifier\r\n"
   ]
  },
  {
   "cell_type": "code",
   "execution_count": 14,
   "metadata": {},
   "outputs": [],
   "source": [
    "# try:\r\n",
    "#      print(\"Load model...\")\r\n",
    "#      file = open('naive_bayes.pickle', 'rb')\r\n",
    "#      classifier = pickle.load(file)\r\n",
    "#      file.close()\r\n",
    "# except:\r\n",
    "#      print(\"No Model...\")\r\n",
    "classifier = training_model()"
   ]
  }
 ],
 "metadata": {
  "interpreter": {
   "hash": "16eb897c26cdfcf18817bc60a8e0737e3939ff1e8491198c807979170104e811"
  },
  "kernelspec": {
   "display_name": "Python 3.7.6 64-bit",
   "name": "python3"
  },
  "language_info": {
   "codemirror_mode": {
    "name": "ipython",
    "version": 3
   },
   "file_extension": ".py",
   "mimetype": "text/x-python",
   "name": "python",
   "nbconvert_exporter": "python",
   "pygments_lexer": "ipython3",
   "version": "3.7.6"
  },
  "orig_nbformat": 4
 },
 "nbformat": 4,
 "nbformat_minor": 2
}