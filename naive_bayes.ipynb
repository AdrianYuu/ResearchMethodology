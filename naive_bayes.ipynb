{
 "cells": [
  {
   "cell_type": "code",
   "execution_count": 35,
   "metadata": {},
   "outputs": [],
   "source": [
    "import pandas as pd\r\n",
    "import string\r\n",
    "import random\r\n",
    "import pickle\r\n",
    "import numpy as np\r\n",
    "from nltk.tokenize import word_tokenize\r\n",
    "from nltk.corpus import stopwords\r\n",
    "from nltk.stem import WordNetLemmatizer\r\n",
    "from nltk.probability import FreqDist\r\n",
    "from nltk.classify import NaiveBayesClassifier, accuracy\r\n",
    "from nltk.tag import pos_tag\r\n",
    "from sklearn.naive_bayes import GaussianNB\r\n",
    "from sklearn.model_selection import train_test_split\r\n",
    "from sklearn.metrics import accuracy_score, classification_report, precision_score, recall_score, f1_score\r\n",
    "from gensim.models import Word2Vec"
   ]
  },
  {
   "cell_type": "code",
   "execution_count": 36,
   "metadata": {},
   "outputs": [],
   "source": [
    "eng_stopwords = stopwords.words('english')\r\n",
    "punctuation_list = string.punctuation\r\n",
    "wnl = WordNetLemmatizer()\r\n",
    "\r\n",
    "def remove_stopwords(w_list):\r\n",
    "     return [word for word in w_list if word not in eng_stopwords]\r\n",
    "\r\n",
    "def remove_punctuation(w_list):\r\n",
    "     return [word for word in w_list if word not in punctuation_list]\r\n",
    "\r\n",
    "def remove_number(w_list):\r\n",
    "     return [word for word in w_list if word.isalpha()]\r\n",
    "\r\n",
    "def get_pos_tag(tag):\r\n",
    "     if tag == 'jj':\r\n",
    "          return 'a'\r\n",
    "     elif tag in ['nn', 'rb', 'vb']:\r\n",
    "          return tag[0]\r\n",
    "     else:\r\n",
    "          return None\r\n",
    "\r\n",
    "def lemmatizing_words(w_list):\r\n",
    "     lemmatized = []\r\n",
    "     tagging = pos_tag(w_list)\r\n",
    "     for word, tag in tagging:\r\n",
    "          label = get_pos_tag(tag)\r\n",
    "          if label != None:\r\n",
    "               lemmatized.append(wnl.lemmatize(word, label))\r\n",
    "          else:\r\n",
    "               lemmatized.append(wnl.lemmatize(word))\r\n",
    "     return lemmatized\r\n"
   ]
  },
  {
   "cell_type": "code",
   "execution_count": 37,
   "metadata": {},
   "outputs": [],
   "source": [
    "def preprocess_text(text):\r\n",
    "    words = word_tokenize(text)\r\n",
    "    words = remove_stopwords(words)\r\n",
    "    words = remove_punctuation(words)\r\n",
    "    words = remove_number(words)\r\n",
    "    words = lemmatizing_words(words)\r\n",
    "    return ' '.join(words)"
   ]
  },
  {
   "cell_type": "code",
   "execution_count": 38,
   "metadata": {},
   "outputs": [],
   "source": [
    "def train_word2vec(sentences, size=100, window=5, min_count=1, workers=4):\r\n",
    "    model = Word2Vec(sentences, vector_size=size, window=window, min_count=min_count, workers=workers)\r\n",
    "    return model\r\n",
    "\r\n",
    "def preprocess_for_word2vec(texts):\r\n",
    "    return [preprocess_text(text).split() for text in texts]\r\n",
    "\r\n",
    "def get_average_word2vec(tokens_list, model, k=100):\r\n",
    "    if len(tokens_list) < 1:\r\n",
    "        return np.zeros(k)\r\n",
    "    vectorized = [model.wv[word] if word in model.wv else np.zeros(k) for word in tokens_list]\r\n",
    "    length = len(vectorized)\r\n",
    "    summed = np.sum(vectorized, axis=0)\r\n",
    "    averaged = np.divide(summed, length)\r\n",
    "    return averaged\r\n",
    "\r\n",
    "def preprocess_and_vectorize(texts, model):\r\n",
    "    vectors = []\r\n",
    "    for text in texts:\r\n",
    "        tokens = preprocess_text(text).split()\r\n",
    "        vectors.append(get_average_word2vec(tokens, model))\r\n",
    "    return np.array(vectors)"
   ]
  },
  {
   "cell_type": "code",
   "execution_count": 40,
   "metadata": {},
   "outputs": [],
   "source": [
    "def training_model():\r\n",
    "     dataset = pd.read_csv('./dataset_rm.csv')\r\n",
    "\r\n",
    "     word_list = []\r\n",
    "     comments_list = dataset['tweet'].to_list()\r\n",
    "     label_list = dataset['label'].to_list()\r\n",
    "\r\n",
    "     for sentence in comments_list:\r\n",
    "          words = word_tokenize(sentence)\r\n",
    "          for word in words:\r\n",
    "               word_list.append(word)\r\n",
    "     \r\n",
    "     word_list = remove_stopwords(word_list)\r\n",
    "     word_list = remove_punctuation(word_list)\r\n",
    "     word_list = remove_number(word_list)\r\n",
    "     # word_list = lemmatizing_words(word_list)\r\n",
    "\r\n",
    "     labeled_data = list(zip(word_list, label_list))\r\n",
    "     fd = FreqDist(word_list)\r\n",
    "     word_features = [word for word, _ in fd.most_common(n=5000)]\r\n",
    "     features_sets = []\r\n",
    "\r\n",
    "     for comment, label in labeled_data:\r\n",
    "          features = {}\r\n",
    "\r\n",
    "          check_list = word_tokenize(comment)\r\n",
    "          check_list = remove_stopwords(check_list)\r\n",
    "          check_list = remove_punctuation(check_list)\r\n",
    "          check_list = remove_number(check_list)\r\n",
    "          # check_list = lemmatizing_words(check_list)\r\n",
    "\r\n",
    "          for word in word_features:\r\n",
    "               features[word] = (word in check_list)\r\n",
    "          features_sets.append((features, label))  \r\n",
    "     \r\n",
    "     random.shuffle(features_sets)\r\n",
    "     train_count = int(len(features_sets)*0.8)\r\n",
    "     train_dataset = features_sets[:train_count]\r\n",
    "     test_dataset = features_sets[train_count:]\r\n",
    "\r\n",
    "     classifier = NaiveBayesClassifier.train(train_dataset)\r\n",
    "     classifier.show_most_informative_features(n=10)\r\n",
    "     print(f\"Training Accuracy: {accuracy(classifier, test_dataset)*100}\")\r\n",
    "    \r\n",
    "     file = open('naive_bayes22.pickle','wb')\r\n",
    "     pickle.dump(classifier, file)\r\n",
    "     file.close()\r\n",
    "\r\n",
    "     y_true = [label for (_, label) in test_dataset]\r\n",
    "     y_pred = [classifier.classify(features) for (features, _) in test_dataset]\r\n",
    "\r\n",
    "     precision = precision_score(y_true, y_pred, pos_label=1)\r\n",
    "     recall = recall_score(y_true, y_pred, pos_label=1)\r\n",
    "     f1 = f1_score(y_true, y_pred, pos_label=1)\r\n",
    "\r\n",
    "     print(f'Precision: {precision:.2f}')\r\n",
    "     print(f'Recall: {recall:.2f}')\r\n",
    "     print(f'F1 Score: {f1:.2f}')\r\n",
    "    \r\n",
    "     return classifier\r\n"
   ]
  },
  {
   "cell_type": "code",
   "execution_count": 41,
   "metadata": {},
   "outputs": [
    {
     "ename": "MemoryError",
     "evalue": "",
     "output_type": "error",
     "traceback": [
      "\u001b[1;31m---------------------------------------------------------------------------\u001b[0m",
      "\u001b[1;31mMemoryError\u001b[0m                               Traceback (most recent call last)",
      "\u001b[1;32m~\\AppData\\Local\\Temp\\ipykernel_13684\\3155786136.py\u001b[0m in \u001b[0;36m<module>\u001b[1;34m\u001b[0m\n\u001b[1;32m----> 1\u001b[1;33m \u001b[0mclassifier\u001b[0m \u001b[1;33m=\u001b[0m \u001b[0mtraining_model\u001b[0m\u001b[1;33m(\u001b[0m\u001b[1;33m)\u001b[0m\u001b[1;33m\u001b[0m\u001b[1;33m\u001b[0m\u001b[0m\n\u001b[0m",
      "\u001b[1;32m~\\AppData\\Local\\Temp\\ipykernel_13684\\4201539780.py\u001b[0m in \u001b[0;36mtraining_model\u001b[1;34m()\u001b[0m\n\u001b[0;32m     31\u001b[0m \u001b[1;33m\u001b[0m\u001b[0m\n\u001b[0;32m     32\u001b[0m           \u001b[1;32mfor\u001b[0m \u001b[0mword\u001b[0m \u001b[1;32min\u001b[0m \u001b[0mword_features\u001b[0m\u001b[1;33m:\u001b[0m\u001b[1;33m\u001b[0m\u001b[1;33m\u001b[0m\u001b[0m\n\u001b[1;32m---> 33\u001b[1;33m                \u001b[0mfeatures\u001b[0m\u001b[1;33m[\u001b[0m\u001b[0mword\u001b[0m\u001b[1;33m]\u001b[0m \u001b[1;33m=\u001b[0m \u001b[1;33m(\u001b[0m\u001b[0mword\u001b[0m \u001b[1;32min\u001b[0m \u001b[0mcheck_list\u001b[0m\u001b[1;33m)\u001b[0m\u001b[1;33m\u001b[0m\u001b[1;33m\u001b[0m\u001b[0m\n\u001b[0m\u001b[0;32m     34\u001b[0m           \u001b[0mfeatures_sets\u001b[0m\u001b[1;33m.\u001b[0m\u001b[0mappend\u001b[0m\u001b[1;33m(\u001b[0m\u001b[1;33m(\u001b[0m\u001b[0mfeatures\u001b[0m\u001b[1;33m,\u001b[0m \u001b[0mlabel\u001b[0m\u001b[1;33m)\u001b[0m\u001b[1;33m)\u001b[0m\u001b[1;33m\u001b[0m\u001b[1;33m\u001b[0m\u001b[0m\n\u001b[0;32m     35\u001b[0m \u001b[1;33m\u001b[0m\u001b[0m\n",
      "\u001b[1;31mMemoryError\u001b[0m: "
     ]
    }
   ],
   "source": [
    "classifier = training_model()"
   ]
  },
  {
   "cell_type": "code",
   "execution_count": 17,
   "metadata": {},
   "outputs": [
    {
     "name": "stdout",
     "output_type": "stream",
     "text": [
      "Most Informative Features\n",
      "                  NIGGER = True                1 : 0      =     79.6 : 1.0\n",
      "                   Idiot = True                1 : 0      =     70.5 : 1.0\n",
      "                 Radical = True                1 : 0      =     53.1 : 1.0\n",
      "                feminazi = True                1 : 0      =     45.4 : 1.0\n",
      "                   Miley = True                1 : 0      =     44.5 : 1.0\n",
      "                   Jihad = True                1 : 0      =     43.7 : 1.0\n",
      "                 colored = True                1 : 0      =     43.4 : 1.0\n",
      "                 bullied = True                1 : 0      =     41.8 : 1.0\n",
      "                    Rape = True                1 : 0      =     38.2 : 1.0\n",
      "                    Joke = True                1 : 0      =     37.7 : 1.0\n",
      "Training Accuracy: 66.16666666666666\n",
      "Precision: 0.77\n",
      "Recall: 0.59\n",
      "F1 Score: 0.67\n"
     ]
    }
   ],
   "source": [
    "# try:\r\n",
    "#      print(\"Load model...\")\r\n",
    "#      file = open('naive_bayes.pickle', 'rb')\r\n",
    "#      classifier = pickle.load(file)\r\n",
    "#      file.close()\r\n",
    "# except:\r\n",
    "#      print(\"No Model...\")\r\n",
    "classifier = training_model()"
   ]
  }
 ],
 "metadata": {
  "interpreter": {
   "hash": "16eb897c26cdfcf18817bc60a8e0737e3939ff1e8491198c807979170104e811"
  },
  "kernelspec": {
   "display_name": "Python 3.7.6 64-bit",
   "name": "python3"
  },
  "language_info": {
   "codemirror_mode": {
    "name": "ipython",
    "version": 3
   },
   "file_extension": ".py",
   "mimetype": "text/x-python",
   "name": "python",
   "nbconvert_exporter": "python",
   "pygments_lexer": "ipython3",
   "version": "3.7.6"
  },
  "orig_nbformat": 4
 },
 "nbformat": 4,
 "nbformat_minor": 2
}